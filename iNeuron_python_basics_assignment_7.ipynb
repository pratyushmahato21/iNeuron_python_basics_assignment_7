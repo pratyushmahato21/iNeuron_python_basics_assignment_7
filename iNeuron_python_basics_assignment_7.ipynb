{
 "cells": [
  {
   "cell_type": "markdown",
   "id": "a9c8a530",
   "metadata": {},
   "source": [
    "1. What is the name of the feature responsible for generating Regex objects?"
   ]
  },
  {
   "cell_type": "markdown",
   "id": "1bbf7d07",
   "metadata": {},
   "source": [
    "Ans: re.compile()"
   ]
  },
  {
   "cell_type": "markdown",
   "id": "c5401b0b",
   "metadata": {},
   "source": [
    "2. Why do raw strings often appear in Regex objects?"
   ]
  },
  {
   "cell_type": "markdown",
   "id": "cd481810",
   "metadata": {},
   "source": [
    "Ans: Raw strings are used so that backslashes do not have to be escaped."
   ]
  },
  {
   "cell_type": "markdown",
   "id": "0339a1a0",
   "metadata": {},
   "source": [
    "3. What is the return value of the search() method?"
   ]
  },
  {
   "cell_type": "markdown",
   "id": "05ed593a",
   "metadata": {},
   "source": [
    "Ans: The search() function searches the string for a match, and returns a Match object if there is a match. If there is more than one match, only the first occurrence of the match will be returned. If no matches are found, the value None is returned"
   ]
  },
  {
   "cell_type": "markdown",
   "id": "98d7f33d",
   "metadata": {},
   "source": [
    "4. From a Match item, how do you get the actual strings that match the pattern?"
   ]
  },
  {
   "cell_type": "markdown",
   "id": "c8134b61",
   "metadata": {},
   "source": [
    "Ans: By using group() method"
   ]
  },
  {
   "cell_type": "markdown",
   "id": "5e1bb289",
   "metadata": {},
   "source": [
    "5. In the regex which created from the r'(\\d\\d\\d)-(\\d\\d\\d-\\d\\d\\d\\d)', what does group zero cover? Group 2? Group 1?"
   ]
  },
  {
   "cell_type": "markdown",
   "id": "6547ff70",
   "metadata": {},
   "source": [
    "Ans: Group 0 is the entire match, group 1 covers the first set of parentheses, and group 2 covers the second set of parentheses."
   ]
  },
  {
   "cell_type": "markdown",
   "id": "864ca0c5",
   "metadata": {},
   "source": [
    "6. In standard expression syntax, parentheses and intervals have distinct meanings. How can you tell a regex that you want it to fit real parentheses and periods?"
   ]
  },
  {
   "cell_type": "raw",
   "id": "66d797ec",
   "metadata": {},
   "source": [
    "Ans: Periods and parentheses can be escaped with a backslash: \\., \\(, and \\)"
   ]
  },
  {
   "cell_type": "markdown",
   "id": "d3617692",
   "metadata": {},
   "source": [
    "7. The findall() method returns a string list or a list of string tuples. What causes it to return one of the two options?"
   ]
  },
  {
   "cell_type": "markdown",
   "id": "1fe9f426",
   "metadata": {},
   "source": [
    "Ans: If the regex has no groups, a list of strings is returned. If the regex has groups, a list of tuples of strings is returned"
   ]
  },
  {
   "cell_type": "markdown",
   "id": "e9324ca8",
   "metadata": {},
   "source": [
    "8. In standard expressions, what does the | character mean?"
   ]
  },
  {
   "cell_type": "markdown",
   "id": "9e765d88",
   "metadata": {},
   "source": [
    "Ans: either or"
   ]
  },
  {
   "cell_type": "markdown",
   "id": "ff31c7d3",
   "metadata": {},
   "source": [
    "9. In regular expressions, what does the ? character stand for?"
   ]
  },
  {
   "cell_type": "markdown",
   "id": "d15ff6d1",
   "metadata": {},
   "source": [
    "Ans: Zero or one occurrences"
   ]
  },
  {
   "cell_type": "markdown",
   "id": "98105757",
   "metadata": {},
   "source": [
    "10.In regular expressions, what is the difference between the + and * characters?"
   ]
  },
  {
   "cell_type": "markdown",
   "id": "dfd2dcc7",
   "metadata": {},
   "source": [
    "Ans: ? : Zero or one occurrences\n",
    "\n",
    "     + : One or more occurrences"
   ]
  },
  {
   "cell_type": "markdown",
   "id": "155fca81",
   "metadata": {},
   "source": [
    "11. What is the difference between {4} and {4,5} in regular expression?"
   ]
  },
  {
   "cell_type": "markdown",
   "id": "ad14af36",
   "metadata": {},
   "source": [
    "Ans: The {4} matches exactly four instances of the preceding group. The {4,5} matches between four and five instances."
   ]
  },
  {
   "cell_type": "markdown",
   "id": "14d61a22",
   "metadata": {},
   "source": [
    "12. What do you mean by the \\d, \\w, and \\s shorthand character classes signify in regular expressions?"
   ]
  },
  {
   "cell_type": "markdown",
   "id": "c0caab6a",
   "metadata": {},
   "source": [
    "Ans: \\d : Returns a match where the string contains digits (numbers from 0-9)\n",
    "\n",
    "     \\w : Returns a match where the string contains any word characters (characters from a to Z,digits from 0-9 and the    underscore _ character)\n",
    "     \n",
    "     \\s : Returns a match where the string contains a white space character"
   ]
  },
  {
   "cell_type": "markdown",
   "id": "c3fc44fd",
   "metadata": {},
   "source": [
    "13. What do means by \\D, \\W, and \\S shorthand character classes signify in regular expressions?"
   ]
  },
  {
   "cell_type": "markdown",
   "id": "d8694370",
   "metadata": {},
   "source": [
    "Ans: \\D: Returns a match where the string DOES NOT contain digits\n",
    "\n",
    "     \\W: Returns a match where the string DOES NOT contain any word characters \n",
    "     \n",
    "     \\S: Returns a match where the string DOES NOT contain a white space character"
   ]
  },
  {
   "cell_type": "markdown",
   "id": "dd3da57b",
   "metadata": {},
   "source": [
    "14. What is the difference between .*? and .*?"
   ]
  },
  {
   "cell_type": "markdown",
   "id": "94bf0f0b",
   "metadata": {},
   "source": [
    "Ans: .* : This is greedy behaviour. It will try to match as much as possible to have the biggest match result possible\n",
    "\n",
    "     .*? : This is lazy behaviour. this is the opposite of greedy behaviour. It will try to find the smallest match possible.\n",
    "     "
   ]
  },
  {
   "cell_type": "markdown",
   "id": "e4cc1871",
   "metadata": {},
   "source": [
    "15. What is the syntax for matching both numbers and lowercase letters with a character class?"
   ]
  },
  {
   "cell_type": "markdown",
   "id": "c4501f7e",
   "metadata": {},
   "source": [
    "Ans: [a-z0-9] or [0-9a-z]"
   ]
  },
  {
   "cell_type": "markdown",
   "id": "abe7f4a8",
   "metadata": {},
   "source": [
    "16. What is the procedure for making a normal expression in regax case insensitive?"
   ]
  },
  {
   "cell_type": "markdown",
   "id": "b468bd72",
   "metadata": {},
   "source": [
    "Ans: Pass re.IGNORECASE to the flags parameters"
   ]
  },
  {
   "cell_type": "markdown",
   "id": "b1369ee7",
   "metadata": {},
   "source": [
    "17. What does the . character normally match? What does it match if re.DOTALL is passed as 2nd argument in re.compile()?"
   ]
  },
  {
   "cell_type": "markdown",
   "id": "70c20cde",
   "metadata": {},
   "source": [
    "Ans: The . character normally matches any character except the newline character. If re.DOTALL is passed as the second argument to re.compile(), then the dot will also match newline characters."
   ]
  },
  {
   "cell_type": "markdown",
   "id": "1fe5330b",
   "metadata": {},
   "source": [
    "18. If numReg = re.compile(r'\\d+'), what will numRegex.sub('X', '11 drummers, 10 pipers, five rings, 4 hen') return?"
   ]
  },
  {
   "cell_type": "code",
   "execution_count": 1,
   "id": "91dd22b7",
   "metadata": {},
   "outputs": [
    {
     "data": {
      "text/plain": [
       "'X drummers, X pipers, five rings, X hen'"
      ]
     },
     "execution_count": 1,
     "metadata": {},
     "output_type": "execute_result"
    }
   ],
   "source": [
    "import re\n",
    "numReg = re.compile(r'\\d+')\n",
    "numReg.sub('X', '11 drummers, 10 pipers, five rings, 4 hen')"
   ]
  },
  {
   "cell_type": "markdown",
   "id": "2f8dc4a7",
   "metadata": {},
   "source": [
    "19. What does passing re.VERBOSE as the 2nd argument to re.compile() allow to do?"
   ]
  },
  {
   "cell_type": "markdown",
   "id": "dd3f6356",
   "metadata": {},
   "source": [
    "Ans: The re.VERBOSE argument allows to add whitespace and comments to the string passed to re.compile()."
   ]
  },
  {
   "cell_type": "markdown",
   "id": "8e64cda9",
   "metadata": {},
   "source": [
    "20. How would you write a regex that match a number with comma for every three digits? It must match the given following:\n",
    "\n",
    "\n",
    "'42'\n",
    "'1,234'\n",
    "'6,368,745'\n",
    "but not the following:\n",
    "'12,34,567' (which has only two digits between the commas)\n",
    "'1234' (which lacks commas)\n"
   ]
  },
  {
   "cell_type": "code",
   "execution_count": 1,
   "id": "9ed2e032",
   "metadata": {},
   "outputs": [
    {
     "name": "stdout",
     "output_type": "stream",
     "text": [
      "output: 42 is <re.Match object; span=(0, 2), match='42'>\n",
      "output: 1,234 is <re.Match object; span=(0, 5), match='1,234'>\n",
      "output: 6,368,745 is <re.Match object; span=(0, 9), match='6,368,745'>\n",
      "output: 12,34,567 is None\n",
      "output: 1234 is None\n"
     ]
    }
   ],
   "source": [
    "import re\n",
    "pattern = r'^\\d{1,3}(,\\d{3})*$'\n",
    "matches= re.compile(pattern)\n",
    "elements = ['42','1,234', '6,368,745','12,34,567','1234']\n",
    "for i in elements:\n",
    "    print(f'output: {i} is {matches.search(i)}')\n",
    "    "
   ]
  },
  {
   "cell_type": "markdown",
   "id": "a2f5501b",
   "metadata": {},
   "source": [
    "21. How would you write a regex that matches the full name of someone whose last name is Watanabe? You can assume that the first name that comes before it will always be one word that begins with a capital letter. The regex must match the following:\n",
    "\n",
    "\n",
    "'Haruto Watanabe'\n",
    "'Alice Watanabe'\n",
    "'RoboCop Watanabe'\n",
    "but not the following:\n",
    "'haruto Watanabe' (where the first name is not capitalized)\n",
    "'Mr. Watanabe' (where the preceding word has a nonletter character)\n",
    "'Watanabe' (which has no first name)\n",
    "'Haruto watanabe' (where Watanabe is not capitalized)\n"
   ]
  },
  {
   "cell_type": "code",
   "execution_count": 3,
   "id": "030e79f2",
   "metadata": {},
   "outputs": [
    {
     "name": "stdout",
     "output_type": "stream",
     "text": [
      "Output:  Haruto Watanabe : ['Haruto Watanabe']\n",
      "Output:  Alice Watanabe : ['Alice Watanabe']\n",
      "Output:  RoboCop Watanabe : ['Cop Watanabe']\n",
      "Output:  haruto Watanabe : []\n",
      "Output:  Mr. Watanabe : []\n",
      "Output:  Watanabe : []\n",
      "Output:  Haruto watanabe : []\n"
     ]
    }
   ],
   "source": [
    "import re\n",
    "pattern = r'[A-Z]{1}[a-z]+\\sWatanabe'\n",
    "matches = re.compile(pattern)\n",
    "list_names = ['Haruto Watanabe','Alice Watanabe','RoboCop Watanabe','haruto Watanabe','Mr. Watanabe','Watanabe','Haruto watanabe']\n",
    "for name in list_names :\n",
    "    print('Output: ',name,':',matches.findall(name))"
   ]
  },
  {
   "cell_type": "markdown",
   "id": "05f2eac4",
   "metadata": {},
   "source": [
    "22. How would you write a regex that matches a sentence where the first word is either Alice, Bob, or Carol; the second word is either eats, pets, or throws; the third word is apples, cats, or baseballs; and the sentence ends with a period? This regex should be case-insensitive. It must match the following:\n",
    "\n",
    "\n",
    "'Alice eats apples.'\n",
    "'Bob pets cats.'\n",
    "'Carol throws baseballs.'\n",
    "'Alice throws Apples.'\n",
    "'BOB EATS CATS.'\n",
    "but not the following:\n",
    "'RoboCop eats apples.'\n",
    "'ALICE THROWS FOOTBALLS.'\n",
    "'Carol eats 7 cats.'\n"
   ]
  },
  {
   "cell_type": "code",
   "execution_count": 2,
   "id": "54f34264",
   "metadata": {},
   "outputs": [
    {
     "name": "stdout",
     "output_type": "stream",
     "text": [
      "Output:  Alice eats apples. : <re.Match object; span=(0, 17), match='Alice eats apples'>\n",
      "Output:  Bob pets cats. : <re.Match object; span=(0, 13), match='Bob pets cats'>\n",
      "Output:  Carol throws baseballs. : <re.Match object; span=(0, 22), match='Carol throws baseballs'>\n",
      "Output:  Alice throws Apples. : <re.Match object; span=(0, 19), match='Alice throws Apples'>\n",
      "Output:  BOB EATS CATS. : <re.Match object; span=(0, 13), match='BOB EATS CATS'>\n",
      "Output:  RoboCop eats apples. : None\n",
      "Output:  ALICE THROWS FOOTBALLS. : None\n",
      "Output:  Carol eats 7 cats. : None\n"
     ]
    }
   ],
   "source": [
    "import re\n",
    "pattern= r'(Alice|Bob|Carol)\\s(eats|pets|throws)\\s(apples|cats|baseballs)'\n",
    "matches= re.compile(pattern, re.IGNORECASE)\n",
    "list_names = ['Alice eats apples.','Bob pets cats.','Carol throws baseballs.','Alice throws Apples.','BOB EATS CATS.','RoboCop eats apples.'\n",
    ",'ALICE THROWS FOOTBALLS.','Carol eats 7 cats.']\n",
    "for i in list_names:\n",
    "    print('Output: ',i,':',matches.search(i))"
   ]
  },
  {
   "cell_type": "code",
   "execution_count": null,
   "id": "bce1a06c",
   "metadata": {},
   "outputs": [],
   "source": []
  }
 ],
 "metadata": {
  "kernelspec": {
   "display_name": "Python 3 (ipykernel)",
   "language": "python",
   "name": "python3"
  },
  "language_info": {
   "codemirror_mode": {
    "name": "ipython",
    "version": 3
   },
   "file_extension": ".py",
   "mimetype": "text/x-python",
   "name": "python",
   "nbconvert_exporter": "python",
   "pygments_lexer": "ipython3",
   "version": "3.9.7"
  },
  "toc": {
   "base_numbering": 1,
   "nav_menu": {},
   "number_sections": true,
   "sideBar": true,
   "skip_h1_title": false,
   "title_cell": "Table of Contents",
   "title_sidebar": "Contents",
   "toc_cell": false,
   "toc_position": {},
   "toc_section_display": true,
   "toc_window_display": false
  }
 },
 "nbformat": 4,
 "nbformat_minor": 5
}
